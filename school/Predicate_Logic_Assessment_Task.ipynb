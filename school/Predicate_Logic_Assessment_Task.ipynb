{
  "nbformat": 4,
  "nbformat_minor": 0,
  "metadata": {
    "colab": {
      "provenance": []
    },
    "kernelspec": {
      "name": "python3",
      "display_name": "Python 3"
    },
    "language_info": {
      "name": "python"
    }
  },
  "cells": [
    {
      "cell_type": "markdown",
      "source": [
        "Unififcation"
      ],
      "metadata": {
        "id": "IeJdvhpvRZV3"
      }
    },
    {
      "cell_type": "code",
      "execution_count": 5,
      "metadata": {
        "id": "7XTjcxJXLMsj",
        "colab": {
          "base_uri": "https://localhost:8080/"
        },
        "outputId": "6d015be5-6366-4a0d-f100-cfaab71a4dd3"
      },
      "outputs": [
        {
          "output_type": "stream",
          "name": "stdout",
          "text": [
            "{'x': 'Ana'}\n"
          ]
        }
      ],
      "source": [
        "def unify(p1, p2):\n",
        "    f1, f2 = p1.split(\"(\")[0], p2.split(\"(\")[0]\n",
        "    if f1 != f2:\n",
        "        return \"Cannot be unified\"\n",
        "\n",
        "    a1, a2 = p1[p1.find(\"(\")+1:-1].split(\",\"), p2[p2.find(\"(\")+1:-1].split(\",\")\n",
        "    if len(a1) != len(a2):\n",
        "        return \"Cannot be unified\"\n",
        "\n",
        "    subs = {}\n",
        "    for x, y in zip(a1, a2):\n",
        "        x, y = x.strip(), y.strip()\n",
        "        if x == y:\n",
        "            continue\n",
        "        if x.islower():\n",
        "            subs[x] = y\n",
        "        elif y.islower():\n",
        "            subs[y] = x\n",
        "        else:\n",
        "            return \"Cannot be unified\"\n",
        "\n",
        "    return subs or \"Already unified\"\n",
        "\n",
        "print(unify(\"Eligible(x)\", \"Eligible(Ana)\"))\n"
      ]
    },
    {
      "cell_type": "markdown",
      "source": [
        "Forward Chaining"
      ],
      "metadata": {
        "id": "rvCVtzNlRWOa"
      }
    },
    {
      "cell_type": "code",
      "source": [
        "\n",
        "facts = {\n",
        "    \"Juan\": {\"HighGrades\": True, \"StudentLeader\": False, \"Applied\": True},\n",
        "    \"Maria\": {\"HighGrades\": True, \"StudentLeader\": False, \"Applied\": False},\n",
        "    \"Carlos\": {\"HighGrades\": False, \"StudentLeader\": True, \"Applied\": True},\n",
        "    \"Ana\": {\"HighGrades\": True, \"StudentLeader\": True, \"Applied\": True}\n",
        "}\n",
        "\n",
        "def is_eligible(student):\n",
        "    s = facts[student]\n",
        "    return s[\"HighGrades\"] and s[\"StudentLeader\"] and s[\"Applied\"]\n",
        "\n",
        "def forward_chaining():\n",
        "    derived = {}\n",
        "    for student in facts.keys():\n",
        "        if is_eligible(student):\n",
        "            derived[student] = {\n",
        "                \"Eligible\": True,\n",
        "                \"Scholarship\": True,\n",
        "                \"FinancialSupport\": True\n",
        "            }\n",
        "        else:\n",
        "            derived[student] = {\"Eligible\": False}\n",
        "    return derived\n",
        "\n",
        "print(\"Forward Chaining Results:\")\n",
        "results = forward_chaining()\n",
        "for s, res in results.items():\n",
        "    print(f\"{s}: {res}\")\n"
      ],
      "metadata": {
        "colab": {
          "base_uri": "https://localhost:8080/"
        },
        "id": "Kb7wJN3uQAZ-",
        "outputId": "d3588aa0-349d-412b-c24f-a441090b358f"
      },
      "execution_count": 6,
      "outputs": [
        {
          "output_type": "stream",
          "name": "stdout",
          "text": [
            "Forward Chaining Results:\n",
            "Juan: {'Eligible': False}\n",
            "Maria: {'Eligible': False}\n",
            "Carlos: {'Eligible': False}\n",
            "Ana: {'Eligible': True, 'Scholarship': True, 'FinancialSupport': True}\n"
          ]
        }
      ]
    },
    {
      "cell_type": "markdown",
      "source": [
        "Backward Chaining"
      ],
      "metadata": {
        "id": "uootUBHmRS0g"
      }
    },
    {
      "cell_type": "code",
      "source": [
        "def backward_chaining(goal, student):\n",
        "    if goal == \"Scholarship\":\n",
        "        return is_eligible(student)\n",
        "    elif goal == \"FinancialSupport\":\n",
        "        return is_eligible(student)\n",
        "    return False\n",
        "\n",
        "print(\"Backward Chaining Results:\")\n",
        "print(\"Scholarship(Maria):\", backward_chaining(\"Scholarship\", \"Maria\"))\n",
        "print(\"FinancialSupport(Ana):\", backward_chaining(\"FinancialSupport\", \"Ana\"))\n"
      ],
      "metadata": {
        "colab": {
          "base_uri": "https://localhost:8080/"
        },
        "id": "nrKRWW40QCvV",
        "outputId": "ff7ed91d-bf3b-46d6-d2bf-febd859166c2"
      },
      "execution_count": 7,
      "outputs": [
        {
          "output_type": "stream",
          "name": "stdout",
          "text": [
            "Backward Chaining Results:\n",
            "Scholarship(Maria): False\n",
            "FinancialSupport(Ana): True\n"
          ]
        }
      ]
    },
    {
      "cell_type": "markdown",
      "source": [
        "Validity Check"
      ],
      "metadata": {
        "id": "l2YLhVewRO41"
      }
    },
    {
      "cell_type": "code",
      "source": [
        "def validity_check():\n",
        "    print(\"Truth Table: (HighGrades ∧ StudentLeader ∧ Applied) → Eligible\")\n",
        "    print(\"HighGrades | StudentLeader | Applied | Eligible\")\n",
        "    for hg in [True, False]:\n",
        "        for leader in [True, False]:\n",
        "            for applied in [True, False]:\n",
        "                eligible = hg and leader and applied\n",
        "                print(f\"{hg:<10} {leader:<13} {applied:<7} {eligible}\")\n",
        "\n",
        "    print(\"\\nTesting each student:\")\n",
        "    for student in facts.keys():\n",
        "        print(student, \"Eligible:\", is_eligible(student))\n",
        "\n",
        "validity_check()\n"
      ],
      "metadata": {
        "colab": {
          "base_uri": "https://localhost:8080/"
        },
        "id": "ce7FSL4cQFCV",
        "outputId": "9a8c3287-a862-417b-c763-4917452c19e1"
      },
      "execution_count": 8,
      "outputs": [
        {
          "output_type": "stream",
          "name": "stdout",
          "text": [
            "Truth Table: (HighGrades ∧ StudentLeader ∧ Applied) → Eligible\n",
            "HighGrades | StudentLeader | Applied | Eligible\n",
            "1          1             1       True\n",
            "1          1             0       False\n",
            "1          0             1       False\n",
            "1          0             0       False\n",
            "0          1             1       False\n",
            "0          1             0       False\n",
            "0          0             1       False\n",
            "0          0             0       False\n",
            "\n",
            "Testing each student:\n",
            "Juan Eligible: False\n",
            "Maria Eligible: False\n",
            "Carlos Eligible: False\n",
            "Ana Eligible: True\n"
          ]
        }
      ]
    },
    {
      "cell_type": "markdown",
      "source": [
        "Logical reasoning matters because it helps us think straight and make sense of things. In AI, it makes sure the system makes decisions based on facts and not just random choices. In everyday life, it guides us to be more careful with our decisions and avoid mistakes. It basically helps both people and machines come up with fair and smart answers."
      ],
      "metadata": {
        "id": "8JDNV14BRNjR"
      }
    }
  ]
}
