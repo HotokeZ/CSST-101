{
  "nbformat": 4,
  "nbformat_minor": 0,
  "metadata": {
    "colab": {
      "provenance": []
    },
    "kernelspec": {
      "name": "python3",
      "display_name": "Python 3"
    },
    "language_info": {
      "name": "python"
    }
  },
  "cells": [
    {
      "cell_type": "code",
      "execution_count": 6,
      "metadata": {
        "id": "B4Fuh8WHg-fl",
        "colab": {
          "base_uri": "https://localhost:8080/"
        },
        "outputId": "69f656d8-f407-41f8-8f89-08b50eee5ac9"
      },
      "outputs": [
        {
          "output_type": "stream",
          "name": "stdout",
          "text": [
            "What is your annual income? 250000\n",
            "How many members are in your family? 2\n",
            "Do you have a preference for the car's continent of origin (e.g., Europe, Asia, North America)? Asia\n",
            "Do you prefer manual or automatic transmission? (manual/automatic): manual\n",
            "Do you prioritize performance or comfort? (performance/comfort): performance\n",
            "Suggested car type: Family car.\n"
          ]
        }
      ],
      "source": [
        "# Title: Car Type Recommender Expert System\n",
        "\n",
        "try:\n",
        "    annual_income = float(input(\"What is your annual income? \"))\n",
        "    family_size = int(input(\"How many members are in your family? \"))\n",
        "    continent_preference = input(\"Do you have a preference for the car's continent of origin (e.g., Europe, Asia, North America)? \").lower()\n",
        "    transmission_type = input(\"Do you prefer manual or automatic transmission? (manual/automatic): \").lower()\n",
        "\n",
        "    if annual_income > 200000:\n",
        "        performance_comfort = input(\"Do you prioritize performance or comfort? (performance/comfort): \").lower()\n",
        "        if performance_comfort == \"performance\" and family_size <= 1:\n",
        "            # Added rules for high income, performance, small family\n",
        "            if continent_preference == \"europe\":\n",
        "                print(\"Suggested car type: European Sports car.\")\n",
        "            elif continent_preference == \"asia\":\n",
        "                print(\"Suggested car type: Asian Sports car.\")\n",
        "            elif continent_preference == \"north america\":\n",
        "                print(\"Suggested car type: American Sports car.\")\n",
        "            else:\n",
        "                print(\"Suggested car type: Sports car.\") # Default if continent not specified\n",
        "        elif performance_comfort == \"comfort\":\n",
        "            # Added rules for high income, comfort\n",
        "            if transmission_type == \"automatic\":\n",
        "                print(\"Suggested car type: Luxury car with automatic transmission.\")\n",
        "            else:\n",
        "                print(\"Suggested car type: Luxury car.\") # Default for luxury\n",
        "        elif 0 < family_size <= 5:\n",
        "             # Added rules for high income, family size 1-5\n",
        "            if transmission_type == \"automatic\":\n",
        "                print(\"Suggested car type: Family car with automatic transmission.\")\n",
        "            else:\n",
        "                print(\"Suggested car type: Family car.\") # Default for family car\n",
        "        elif 5 < family_size < 7:\n",
        "             # Added rules for high income, family size 5-7\n",
        "            if continent_preference == \"north america\":\n",
        "                 print(\"Suggested car type: North American SUV.\")\n",
        "            else:\n",
        "                 print(\"Suggested car type: SUV.\") # Default for SUV\n",
        "        elif  7 < family_size < 12:\n",
        "             # Added rules for high income, family size 7-12\n",
        "            if transmission_type == \"automatic\":\n",
        "                print(\"Suggested car type: Van with automatic transmission.\")\n",
        "            else:\n",
        "                print(\"Suggested car type: Van.\") # Default for Van\n",
        "        else:\n",
        "            print(\"Based on your inputs, we cannot recommend a specific car type at this time.\")\n",
        "    else:\n",
        "        # Nested if for not rich individuals\n",
        "        if 0 < family_size <= 5:\n",
        "            # Added rules for lower income, family size 1-5\n",
        "            if transmission_type == \"automatic\":\n",
        "                print(\"Suggested car type: Family car with automatic transmission.\")\n",
        "            else:\n",
        "                print(\"Suggested car type: Family car.\") # Default for family car\n",
        "        elif 5 < family_size < 7:\n",
        "             # Added rules for lower income, family size 5-7\n",
        "            if continent_preference == \"north america\":\n",
        "                 print(\"Suggested car type: North American SUV.\")\n",
        "            else:\n",
        "                 print(\"Suggested car type: SUV.\") # Default for SUV\n",
        "        elif  7 < family_size < 12:\n",
        "             # Added rules for lower income, family size 7-12\n",
        "            if transmission_type == \"automatic\":\n",
        "                print(\"Suggested car type: Van with automatic transmission.\")\n",
        "            else:\n",
        "                print(\"Suggested car type: Van.\") # Default for Van\n",
        "        else:\n",
        "            print(\"Based on your inputs, we cannot recommend a specific car type at this time.\")\n",
        "\n",
        "except ValueError:\n",
        "    print(\"Invalid input. Please enter numerical values for income and family size.\")"
      ]
    }
  ]
}