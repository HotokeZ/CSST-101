{
  "nbformat": 4,
  "nbformat_minor": 0,
  "metadata": {
    "colab": {
      "provenance": []
    },
    "kernelspec": {
      "name": "python3",
      "display_name": "Python 3"
    },
    "language_info": {
      "name": "python"
    }
  },
  "cells": [
    {
      "cell_type": "code",
      "execution_count": 2,
      "metadata": {
        "colab": {
          "base_uri": "https://localhost:8080/"
        },
        "id": "SbqM2lK2KAGw",
        "outputId": "65e086cd-7bf4-4482-8f85-bf6fba84e435"
      },
      "outputs": [
        {
          "output_type": "stream",
          "name": "stdout",
          "text": [
            "=== Belief Revision Simulation ===\n",
            "\n",
            "Enter the name of a bird: emu\n",
            "Rule: If an animal is a bird, assume it can fly.\n",
            "------------------------------------------------\n",
            "Input: emu\n",
            "Reasoning: Emu is a bird.\n",
            "However, emus are known exceptions that cannot fly.\n",
            "Revising belief based on new information...\n",
            "Conclusion: emus cannot fly.\n",
            "------------------------------------------------\n",
            "Belief revision process completed.\n",
            "\n"
          ]
        }
      ],
      "source": [
        "def belief_revision(animal):\n",
        "    print(\"Rule: If an animal is a bird, assume it can fly.\")\n",
        "    print(\"------------------------------------------------\")\n",
        "    print(f\"Input: {animal}\")\n",
        "    print(f\"Reasoning: {animal.capitalize()} is a bird.\")\n",
        "    exceptions = [\"kiwi\", \"emu\", \"cassowary\", \"kakapo\", \"rhea\", \"dodo\"]\n",
        "    if animal.lower() in exceptions:\n",
        "        print(f\"However, {animal}s are known exceptions that cannot fly.\")\n",
        "        print(\"Revising belief based on new information...\")\n",
        "        print(f\"Conclusion: {animal}s cannot fly.\")\n",
        "    else:\n",
        "        print(\"No conflicting information found.\")\n",
        "        print(f\"Conclusion: {animal}s can fly.\")\n",
        "    print(\"------------------------------------------------\")\n",
        "    print(\"Belief revision process completed.\\n\")\n",
        "\n",
        "print(\"=== Belief Revision Simulation ===\\n\")\n",
        "animal_name = input(\"Enter the name of a bird: \").strip().lower()\n",
        "belief_revision(animal_name)\n",
        "\n"
      ]
    },
    {
      "cell_type": "markdown",
      "source": [
        "\n",
        " 1. Define non-monotonic reasoning in your own words.\n",
        " Non-monotonic reasoning is a type of reasoning where conclusions can change when new information is added.In other words, previously true beliefs may need to be withdrawn if new evidence contradicts them.\n",
        " 2. How does non-monotonic reasoning differ from monotonic reasoning?\n",
        " In monotonic reasoning, once something is concluded, it remains true even if more information is added. In non-monotonic reasoning, conclusions can be revised or reversed when new facts are introduced.\n",
        "\n",
        " 3. Give a real-life situation where a conclusion must change after new information is added.\n",
        " You assume your friend is at home because their shoes are at the door.\n",
        " Later, you find a message saying they went out. You then change your conclusion — they are not at home.\n",
        "\n",
        " 4. What is a default rule? Provide one example.\n",
        " A default rule is a general assumption that holds true unless there is evidence to the contrary.\n",
        " Example: “Birds can fly” is a default rule, but it changes if we learn the bird is a penguin.\n",
        "\n",
        " 5. How do argumentation frameworks help AI systems decide between conflicting rules?\n",
        " Argumentation frameworks help AI systems evaluate and compare different arguments, identify conflicts,\n",
        " and choose the most logical or supported conclusion based on evidence and priorities."
      ],
      "metadata": {
        "id": "UjcOwJ7IL4zX"
      }
    }
  ]
}